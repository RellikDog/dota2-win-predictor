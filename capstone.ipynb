{
 "cells": [
  {
   "cell_type": "markdown",
   "metadata": {},
   "source": [
    "# Import Cell"
   ]
  },
  {
   "cell_type": "code",
   "execution_count": null,
   "metadata": {},
   "outputs": [],
   "source": [
    "import pandas as pd \n",
    "import numpy as np \n",
    "import matplotlib.pyplot as plt\n",
    "import src.names_numbers as NN\n",
    "from src.names_numbers import heroes as H \n",
    "from sklearn.ensemble import RandomForestClassifier\n",
    "from sklearn.model_selection import train_test_split\n",
    "from sklearn.metrics import confusion_matrix, precision_score, recall_score\n",
    "from sklearn.linear_model import LogisticRegression\n",
    "from sklearn.tree import DecisionTreeClassifier\n",
    "from sklearn.naive_bayes import MultinomialNB\n",
    "from src.roc import plot_roc\n",
    "plt.style.use('ggplot')\n",
    "%matplotlib inline"
   ]
  },
  {
   "cell_type": "markdown",
   "metadata": {},
   "source": [
    "## Import and Clean the Data"
   ]
  },
  {
   "cell_type": "code",
   "execution_count": null,
   "metadata": {},
   "outputs": [],
   "source": [
    "df = pd.read_csv('data/dota2Train.csv', header=None)\n",
    "df.rename(columns={0: 'winner',\n",
    "                   1: 'region',\n",
    "                   2: 'mode',\n",
    "                   3: 'type'}, inplace=True)\n",
    "df.columns = [(i-3) if type(i) == int else i for i in df.columns]"
   ]
  },
  {
   "cell_type": "markdown",
   "metadata": {},
   "source": [
    "### Stock Random Forest"
   ]
  },
  {
   "cell_type": "code",
   "execution_count": null,
   "metadata": {},
   "outputs": [],
   "source": [
    "#start random forest work need binary\n",
    "# winner column 0 = team B wins,  1 = team A\n",
    "rfdf = df.copy()\n",
    "for i in ['region', 'mode', 'type']:\n",
    "    rfdf.pop(i)\n",
    "winner = rfdf.pop('winner')\n",
    "y = winner.replace(-1, 0)\n",
    "#make X values binary, each column is char-team, 1 denotes picked.\n",
    "X = rfdf\n",
    "X2 = X.copy()\n",
    "X.columns = [(str(i) + 'A') for i in X.columns]\n",
    "X2.columns = [(str(i) + 'B') for i in X2.columns]\n",
    "X.replace(-1, 0, inplace=True)\n",
    "X2.replace(1, 0, inplace=True)\n",
    "X2.replace(-1, 1, inplace=True)\n",
    "X = pd.concat([X, X2], axis=1)\n",
    "X_train, X_test, y_train, y_test = train_test_split(X, y)\n",
    "# ^^SETUP^^"
   ]
  },
  {
   "cell_type": "code",
   "execution_count": null,
   "metadata": {},
   "outputs": [],
   "source": [
    "rf = RandomForestClassifier()\n",
    "rf.fit(X_train, y_train)\n",
    "print(\"\\nscore:\", rf.score(X_test, y_test))\n",
    "y_predict = rf.predict(X_test)\n",
    "print(\"\\nconfusion matrix:\")\n",
    "print(confusion_matrix(y_test, y_predict))\n",
    "print(\"\\nprecision:\", precision_score(y_test, y_predict))\n",
    "print(\"    recall:\", recall_score(y_test, y_predict))"
   ]
  },
  {
   "cell_type": "code",
   "execution_count": null,
   "metadata": {},
   "outputs": [],
   "source": []
  }
 ],
 "metadata": {
  "language_info": {
   "codemirror_mode": {
    "name": "ipython",
    "version": 3
   },
   "file_extension": ".py",
   "mimetype": "text/x-python",
   "name": "python",
   "nbconvert_exporter": "python",
   "pygments_lexer": "ipython3",
   "version": 3
  },
  "orig_nbformat": 2
 },
 "nbformat": 4,
 "nbformat_minor": 2
}